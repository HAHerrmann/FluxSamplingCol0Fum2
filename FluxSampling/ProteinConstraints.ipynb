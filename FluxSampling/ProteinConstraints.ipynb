{
 "cells": [
  {
   "cell_type": "code",
   "execution_count": 2,
   "metadata": {},
   "outputs": [
    {
     "name": "stderr",
     "output_type": "stream",
     "text": [
      "cobra/core/reaction.py:394 \u001b[1;31mUserWarning\u001b[0m: malformed gene_reaction_rule '2*(ATCG00020 and ATCG00680 and ATCG00280 and ATCG00270 and ATCG00580 and ATCG00570 and ATCG00710 and ATCG00080 and ATCG00550 and ATCG00070 and ATCG00560 and ATCG00220 and ATCG00700 and (AT5G66570 or AT3G50820) and AT1G06680 and (AT4G21280 or AT4G05180) and AT1G79040 and AT1G44575 and ATCG00690 and AT3G21055 and AT2G30570 and AT2G06520 and AT1G67740 and ATCG00300)' for <Reaction PSII_h at 0x7fbc4f1faf90>\n",
      "cobra/core/reaction.py:394 \u001b[1;31mUserWarning\u001b[0m: malformed gene_reaction_rule '2*(ATCG00540 and ATCG00720 and AT4G03280 and ATCG00730 and ATCG00600 and ATCG00590 and AT2G26500 and ATCG00210)' for <Reaction Cytb6f_h at 0x7fbc190e26d0>\n",
      "cobra/core/reaction.py:394 \u001b[1;31mUserWarning\u001b[0m: malformed gene_reaction_rule '8*(ATCG00490) and 8*(AT5G38430 or AT5G38420 or AT1G67090 or AT5G38410)' for <Reaction RBC_h at 0x7fbc12d774d0>\n",
      "cobra/core/reaction.py:394 \u001b[1;31mUserWarning\u001b[0m: malformed gene_reaction_rule '4*(AT3G26650 or AT1G12900) or (2*(AT3G26650 or AT1G12900) and 2*(AT1G42970))' for <Reaction GAPDH1_h at 0x7fbc12d77310>\n",
      "cobra/core/reaction.py:394 \u001b[1;31mUserWarning\u001b[0m: malformed gene_reaction_rule '2*(AT3G55440 or AT2G21170)' for <Reaction TPI_h at 0x7fbc12d77350>\n",
      "cobra/core/reaction.py:394 \u001b[1;31mUserWarning\u001b[0m: malformed gene_reaction_rule '4*(AT2G01140 or AT4G26530 or AT3G52930 or AT4G38970 or AT5G03690 or AT2G21330)' for <Reaction FBPA_h at 0x7fbc12d77410>\n",
      "cobra/core/reaction.py:394 \u001b[1;31mUserWarning\u001b[0m: malformed gene_reaction_rule '4*(AT3G54050)' for <Reaction FBPase_h at 0x7fbc12d77750>\n",
      "cobra/core/reaction.py:394 \u001b[1;31mUserWarning\u001b[0m: malformed gene_reaction_rule '2*(AT3G60750 or AT2G45290)' for <Reaction FTK_h at 0x7fbc12d77790>\n",
      "cobra/core/reaction.py:394 \u001b[1;31mUserWarning\u001b[0m: malformed gene_reaction_rule '4*(AT2G01140 or AT4G26530 or AT3G52930 or AT4G38970 or AT5G03690 or AT2G21330)' for <Reaction SBPA_h at 0x7fbc12d77890>\n",
      "cobra/core/reaction.py:394 \u001b[1;31mUserWarning\u001b[0m: malformed gene_reaction_rule '2*(AT3G55800)' for <Reaction SBPase_h at 0x7fbc12d77450>\n",
      "cobra/core/reaction.py:394 \u001b[1;31mUserWarning\u001b[0m: malformed gene_reaction_rule '2*(AT3G60750 or AT2G45290)' for <Reaction STK_h at 0x7fbc12d77910>\n",
      "cobra/core/reaction.py:394 \u001b[1;31mUserWarning\u001b[0m: malformed gene_reaction_rule '8*(AT5G61410)' for <Reaction Ru5PE_h at 0x7fbc12d778d0>\n",
      "cobra/core/reaction.py:394 \u001b[1;31mUserWarning\u001b[0m: malformed gene_reaction_rule '2*(AT3G04790)' for <Reaction R5PI_h at 0x7fbc12d0ae90>\n",
      "cobra/core/reaction.py:394 \u001b[1;31mUserWarning\u001b[0m: malformed gene_reaction_rule '2*(AT1G32060)' for <Reaction Ru5PK_h at 0x7fbc12d0abd0>\n",
      "cobra/core/reaction.py:394 \u001b[1;31mUserWarning\u001b[0m: malformed gene_reaction_rule '2*(AT4G24620)' for <Reaction PGI_h at 0x7fbc12d0ac50>\n",
      "cobra/core/reaction.py:394 \u001b[1;31mUserWarning\u001b[0m: malformed gene_reaction_rule '2*(AT5G19220 or AT1G27680 or AT4G39210 or AT2G21590) and 2*(AT5G48300 or AT1G05610)' for <Reaction AGPase_h at 0x7fbc12d0afd0>\n",
      "cobra/core/reaction.py:394 \u001b[1;31mUserWarning\u001b[0m: malformed gene_reaction_rule '2*(AT3G55440 or AT2G21170)' for <Reaction TPI_c at 0x7fbc12d297d0>\n",
      "cobra/core/reaction.py:394 \u001b[1;31mUserWarning\u001b[0m: malformed gene_reaction_rule '4*(AT4G26520 or AT4G26530 or AT3G52930 or AT2G36460 or AT5G03690)' for <Reaction FBPA_c at 0x7fbc12cbc150>\n",
      "cobra/core/reaction.py:394 \u001b[1;31mUserWarning\u001b[0m: malformed gene_reaction_rule '4*(AT1G43670)' for <Reaction FBPase_c at 0x7fbc12d29f90>\n",
      "cobra/core/reaction.py:394 \u001b[1;31mUserWarning\u001b[0m: malformed gene_reaction_rule '4*(AT1G07110)' for <Reaction F6PK2_c at 0x7fbc12cbc590>\n",
      "cobra/core/reaction.py:394 \u001b[1;31mUserWarning\u001b[0m: malformed gene_reaction_rule '4*(AT1G07110)' for <Reaction F26BPPh_c at 0x7fbc12cbc350>\n",
      "cobra/core/reaction.py:394 \u001b[1;31mUserWarning\u001b[0m: malformed gene_reaction_rule '2*(AT4G24620 or AT5G42740)' for <Reaction PGI_c at 0x7fbc12cbc3d0>\n",
      "cobra/core/reaction.py:394 \u001b[1;31mUserWarning\u001b[0m: malformed gene_reaction_rule '2*(AT5G20280) or 4*(AT5G20280)' for <Reaction S6PS_c at 0x7fbc12cbc7d0>\n",
      "cobra/core/reaction.py:394 \u001b[1;31mUserWarning\u001b[0m: malformed gene_reaction_rule '2*(AT2G35840 or AT3G52340)' for <Reaction S6PPh_c at 0x7fbc12cbc450>\n",
      "cobra/core/reaction.py:394 \u001b[1;31mUserWarning\u001b[0m: malformed gene_reaction_rule '4*(AT5G20830 or AT5G49190 or AT3G43190)' for <Reaction SucS_c at 0x7fbc12cbcb90>\n",
      "cobra/core/reaction.py:394 \u001b[1;31mUserWarning\u001b[0m: malformed gene_reaction_rule '4*(AT1G53310 or AT2G42600 or AT3G14940 or AT1G68750)' for <Reaction PEPC2_c at 0x7fbc12cbcf90>\n",
      "cobra/core/reaction.py:394 \u001b[1;31mUserWarning\u001b[0m: malformed gene_reaction_rule '2*(AT2G29560 or AT2G36530)' for <Reaction Enol_c at 0x7fbc12cbc910>\n",
      "cobra/core/reaction.py:394 \u001b[1;31mUserWarning\u001b[0m: malformed gene_reaction_rule '4*(AT3G04120 or AT1G13440)' for <Reaction GAPDH2_c at 0x7fbc12cd2210>\n",
      "cobra/core/reaction.py:394 \u001b[1;31mUserWarning\u001b[0m: malformed gene_reaction_rule '4*(AT1G79530 or AT1G16300)' for <Reaction GAPDH2_h at 0x7fbc12ce6350>\n",
      "cobra/core/reaction.py:394 \u001b[1;31mUserWarning\u001b[0m: malformed gene_reaction_rule '2*(AT1G74030 or AT2G36530)' for <Reaction Enol_h at 0x7fbc12ce6910>\n",
      "cobra/core/reaction.py:394 \u001b[1;31mUserWarning\u001b[0m: malformed gene_reaction_rule '4*(AT3G04050 or AT5G08570 or AT3G25960 or AT2G36580 or AT3G55650 or AT3G55810 or AT5G63680 or AT3G52990)' for <Reaction PyrK_c at 0x7fbc12ce68d0>\n",
      "cobra/core/reaction.py:394 \u001b[1;31mUserWarning\u001b[0m: malformed gene_reaction_rule '4*(AT3G22960) and 4*(AT5G52920 or AT1G32440)' for <Reaction PyrK_h at 0x7fbc12ce6b10>\n",
      "cobra/core/reaction.py:394 \u001b[1;31mUserWarning\u001b[0m: malformed gene_reaction_rule '2*(AT1G59900) and 2*(AT5G50850)' for <Reaction PyrDH1_m at 0x7fbc12ce6d10>\n",
      "cobra/core/reaction.py:394 \u001b[1;31mUserWarning\u001b[0m: malformed gene_reaction_rule '2*(AT1G59900) and 2*(AT5G50850)' for <Reaction PyrDH2_m at 0x7fbc12ce6c90>\n",
      "cobra/core/reaction.py:394 \u001b[1;31mUserWarning\u001b[0m: malformed gene_reaction_rule '3*(AT3G52200 or AT3G13930 or AT1G54220)' for <Reaction DHLAcT_m at 0x7fbc12ce6fd0>\n",
      "cobra/core/reaction.py:394 \u001b[1;31mUserWarning\u001b[0m: malformed gene_reaction_rule '2*(AT1G48030 or AT3G17240)' for <Reaction DHLDH2_m at 0x7fbc12ce6c50>\n",
      "cobra/core/reaction.py:394 \u001b[1;31mUserWarning\u001b[0m: malformed gene_reaction_rule '2*(AT5G65750 or AT3G55410)' for <Reaction KGDH_m at 0x7fbc12c79310>\n",
      "cobra/core/reaction.py:394 \u001b[1;31mUserWarning\u001b[0m: malformed gene_reaction_rule '3*(AT5G55070 or AT4G26910)' for <Reaction DHLST_m at 0x7fbc12c791d0>\n",
      "cobra/core/reaction.py:394 \u001b[1;31mUserWarning\u001b[0m: malformed gene_reaction_rule '(ATMG01275 or ATMG01120 or ATMG00516) and (ATMG00285 or ATMG01320) and ATMG00990 and (ATMG00580 or ATMG00650) and (ATMG00513 or ATMG00665 or ATMG00060) and ATMG00270 and ATMG00510 and ATMG00070 and AT5G37510 and AT5G11770 (AT1G79010 or AT1G16700) and AT5G08530 and AT4G02580' for <Reaction cplx1_m at 0x7fbc12c79710>\n",
      "cobra/core/reaction.py:394 \u001b[1;31mUserWarning\u001b[0m: malformed gene_reaction_rule '3*(ATMG01190) and 3*(AT5G08670 or AT5G08690 or AT5G08680) and AT2G33040 and (AT5G13450 or AT5G47030) and AT1G51650 and (ATMG00410 or ATMG01170) and 2*(ATMG00640 or ATMG00480) and 12*(ATMG01080 or AT2G07671) and AT3G52300' for <Reaction cplx5_m at 0x7fbc12c79dd0>\n",
      "cobra/core/reaction.py:394 \u001b[1;31mUserWarning\u001b[0m: malformed gene_reaction_rule '8*(ATCG00490) and 8*(AT5G38430 or AT5G38420 or AT1G67090 or AT5G38410)' for <Reaction RBO_h at 0x7fbc12c79f10>\n",
      "cobra/core/reaction.py:394 \u001b[1;31mUserWarning\u001b[0m: malformed gene_reaction_rule '4*(AT1G20620 or AT1G20630 or AT4G35090)' for <Reaction CAT_p at 0x7fbc12c8a690>\n",
      "cobra/core/reaction.py:394 \u001b[1;31mUserWarning\u001b[0m: malformed gene_reaction_rule '2*(AT4G33010 or AT2G26080)' for <Reaction GlyDH_m at 0x7fbc12c8a3d0>\n",
      "cobra/core/reaction.py:394 \u001b[1;31mUserWarning\u001b[0m: malformed gene_reaction_rule '2*(AT1G48030 or AT3G17240)' for <Reaction DHLDH1_m at 0x7fbc12c8a590>\n",
      "cobra/core/reaction.py:394 \u001b[1;31mUserWarning\u001b[0m: malformed gene_reaction_rule '4*(AT4G37930 or AT5G26780)' for <Reaction GlyHMT_m at 0x7fbc12c9b510>\n",
      "cobra/core/reaction.py:394 \u001b[1;31mUserWarning\u001b[0m: malformed gene_reaction_rule '2*(AT2G13360)' for <Reaction SGAT_p at 0x7fbc12c9bd50>\n",
      "cobra/core/reaction.py:394 \u001b[1;31mUserWarning\u001b[0m: malformed gene_reaction_rule '4*(AT2G19900 or AT5G11670 or AT5G25880)' for <Reaction MalDH2NADP_c at 0x7fbc12cb5b50>\n",
      "cobra/core/reaction.py:394 \u001b[1;31mUserWarning\u001b[0m: malformed gene_reaction_rule '4*(AT5G11670 or AT5G25880 or AT1G79750)' for <Reaction MalDH2NADP_h at 0x7fbc12cb5d10>\n",
      "cobra/core/reaction.py:394 \u001b[1;31mUserWarning\u001b[0m: malformed gene_reaction_rule '4*(AT1G10670 or AT1G60810 or AT1G09430) and 4*(AT3G06650 orAT5G49460)' for <Reaction ATPCitL_c at 0x7fbc12c49910>\n",
      "cobra/core/reaction.py:394 \u001b[1;31mUserWarning\u001b[0m: malformed gene_reaction_rule '(AT5G16390 or AT5G15530) and AT5G35360 and 2*(AT2G38040) and 2*(ATCG00500)' for <Reaction ACoAC_h at 0x7fbc12c49f50>\n",
      "cobra/core/reaction.py:394 \u001b[1;31mUserWarning\u001b[0m: malformed gene_reaction_rule '2*(AT4G35460 or AT2G17420 or AT2G41680)' for <Reaction TRXR_c at 0x7fbc12c61550>\n",
      "cobra/core/reaction.py:394 \u001b[1;31mUserWarning\u001b[0m: malformed gene_reaction_rule '2*(AT4G12440 or AT5G11160 or AT4G22570 or AT1G27450 or AT1G80050)' for <Reaction ADPRPPT_c at 0x7fbc12c618d0>\n",
      "cobra/core/reaction.py:394 \u001b[1;31mUserWarning\u001b[0m: malformed gene_reaction_rule '2*(AT1G77760 or AT1G37130)' for <Reaction NO3R1_c at 0x7fbc12c61e10>\n",
      "cobra/core/reaction.py:394 \u001b[1;31mUserWarning\u001b[0m: malformed gene_reaction_rule '2*(AT1G77760 or AT1G37130)' for <Reaction NO3R2_c at 0x7fbc12c61c50>\n",
      "cobra/core/reaction.py:394 \u001b[1;31mUserWarning\u001b[0m: malformed gene_reaction_rule '4*(AT3G22890 or AT1G19920 or AT4G14680 or AT5G43780)' for <Reaction ATPSL_h at 0x7fbc12c61890>\n",
      "cobra/core/reaction.py:394 \u001b[1;31mUserWarning\u001b[0m: malformed gene_reaction_rule '2*(AT3G54660)' for <Reaction GSSGR_h at 0x7fbc12c61dd0>\n",
      "cobra/core/reaction.py:394 \u001b[1;31mUserWarning\u001b[0m: malformed gene_reaction_rule '(AT1G08065 or AT5G04180 or AT4G20990 or AT4G21000 or AT2G28210 or AT3G52720) or 8*(AT1G23730 or AT5G14740)' for <Reaction HCO3DHA_c at 0x7fbc12c61d50>\n",
      "cobra/core/reaction.py:394 \u001b[1;31mUserWarning\u001b[0m: malformed gene_reaction_rule '(AT4G20990 or AT1G08080 or AT3G52720) or 8*(AT1G23730 or AT1G70410 or AT1G58180 or AT3G01500 or AT5G14740 or AT4G33580)' for <Reaction HCO3DHA_h at 0x7fbc12c72490>\n",
      "cobra/core/reaction.py:394 \u001b[1;31mUserWarning\u001b[0m: malformed gene_reaction_rule '6*(AT3G57560)' for <Reaction AGluK at 0x7fbc12c72250>\n",
      "cobra/core/reaction.py:394 \u001b[1;31mUserWarning\u001b[0m: malformed gene_reaction_rule '2*(AT5G08100) and 2*(AT3G16150)' for <Reaction Asnase_c at 0x7fbc12c08410>\n",
      "cobra/core/reaction.py:394 \u001b[1;31mUserWarning\u001b[0m: malformed gene_reaction_rule '6*(AT1G55920 or AT2G17640 or AT3G13110 or AT4G35640 or AT5G56760)' for <Reaction SerAcT_c at 0x7fbc12c08650>\n",
      "cobra/core/reaction.py:394 \u001b[1;31mUserWarning\u001b[0m: malformed gene_reaction_rule '6*(AT1G55920 or AT3G13110)' for <Reaction SerAcT_h at 0x7fbc12c08990>\n",
      "cobra/core/reaction.py:394 \u001b[1;31mUserWarning\u001b[0m: malformed gene_reaction_rule '6*(AT1G55920 or AT3G13110)' for <Reaction SerAcT_m at 0x7fbc12c08a90>\n",
      "cobra/core/reaction.py:394 \u001b[1;31mUserWarning\u001b[0m: malformed gene_reaction_rule '2*(AT4G14880 or AT3G22460)' for <Reaction CysS_c at 0x7fbc12c08c10>\n",
      "cobra/core/reaction.py:394 \u001b[1;31mUserWarning\u001b[0m: malformed gene_reaction_rule '2*(AT3G61440 or AT3G03630 or AT4G14880 or AT2G43750)' for <Reaction CysS_h at 0x7fbc12c08d50>\n",
      "cobra/core/reaction.py:394 \u001b[1;31mUserWarning\u001b[0m: malformed gene_reaction_rule '2*(AT3G61440 or AT3G03630 or AT2G43750 or AT5G28020)' for <Reaction CysS_m at 0x7fbc12c08e50>\n",
      "cobra/core/reaction.py:394 \u001b[1;31mUserWarning\u001b[0m: malformed gene_reaction_rule '6*(AT5G18170 or AT5G07440 or AT3G03910)' for <Reaction GluDH1NAD_m at 0x7fbc12c08910>\n",
      "cobra/core/reaction.py:394 \u001b[1;31mUserWarning\u001b[0m: malformed gene_reaction_rule '6*(AT5G18170 or AT5G07440 or AT3G03910)' for <Reaction GluDH1NADP_m at 0x7fbc12c1c250>\n",
      "cobra/core/reaction.py:394 \u001b[1;31mUserWarning\u001b[0m: malformed gene_reaction_rule '6*(AT5G18170 or AT5G07440)' for <Reaction GluDH2NAD_m at 0x7fbc12c08d10>\n",
      "cobra/core/reaction.py:394 \u001b[1;31mUserWarning\u001b[0m: malformed gene_reaction_rule '6*(AT5G17330 or AT1G65960 or AT2G02000 or AT2G02010 or AT3G17760)' for <Reaction GluDC_c at 0x7fbc12c1c610>\n",
      "cobra/core/reaction.py:394 \u001b[1;31mUserWarning\u001b[0m: malformed gene_reaction_rule '2*(AT3G22200)' for <Reaction GABATA1_m at 0x7fbc12c1c790>\n",
      "cobra/core/reaction.py:394 \u001b[1;31mUserWarning\u001b[0m: malformed gene_reaction_rule '2*(AT3G22200)' for <Reaction GABATA2_m at 0x7fbc12c1c910>\n",
      "cobra/core/reaction.py:394 \u001b[1;31mUserWarning\u001b[0m: malformed gene_reaction_rule '4*(AT1G79440)' for <Reaction SCASeADH_m at 0x7fbc12c1c710>\n",
      "cobra/core/reaction.py:394 \u001b[1;31mUserWarning\u001b[0m: malformed gene_reaction_rule '8*(AT5G37600 or AT3G17820 or AT5G16570 or AT1G66200)' for <Reaction GlnS_c at 0x7fbc12c1c8d0>\n",
      "cobra/core/reaction.py:394 \u001b[1;31mUserWarning\u001b[0m: malformed gene_reaction_rule '8*(AT3G17820 or AT1G48470 or AT5G35630)' for <Reaction GlnS_h at 0x7fbc12c1cb50>\n",
      "cobra/core/reaction.py:394 \u001b[1;31mUserWarning\u001b[0m: malformed gene_reaction_rule '8*(AT5G35630)' for <Reaction GlnS_m at 0x7fbc12c1ccd0>\n",
      "cobra/core/reaction.py:394 \u001b[1;31mUserWarning\u001b[0m: malformed gene_reaction_rule '4*(AT1G20620 or AT1G20630 or AT4G35090)' for <Reaction CAT_h at 0x7fbc12c1c4d0>\n",
      "cobra/core/reaction.py:394 \u001b[1;31mUserWarning\u001b[0m: malformed gene_reaction_rule '2*(AT2G13360' for <Reaction SGAT_h at 0x7fbc12c1c890>\n",
      "cobra/core/reaction.py:394 \u001b[1;31mUserWarning\u001b[0m: malformed gene_reaction_rule '4*(AT3G10050)' for <Reaction ThrDA_h at 0x7fbc12c2fad0>\n",
      "cobra/core/reaction.py:394 \u001b[1;31mUserWarning\u001b[0m: malformed gene_reaction_rule '2*(AT3G48560)' for <Reaction ALS1_h at 0x7fbc12c2fb90>\n",
      "cobra/core/reaction.py:394 \u001b[1;31mUserWarning\u001b[0m: malformed gene_reaction_rule '2*(AT3G48560)' for <Reaction ALS2_h at 0x7fbc12c2fd50>\n",
      "cobra/core/reaction.py:394 \u001b[1;31mUserWarning\u001b[0m: malformed gene_reaction_rule '2*(AT3G48560)' for <Reaction ALS3_h at 0x7fbc12c2ff90>\n",
      "cobra/core/reaction.py:394 \u001b[1;31mUserWarning\u001b[0m: malformed gene_reaction_rule '2*(AT1G18500) or 4*(AT1G74040)' for <Reaction 2IPMS_h at 0x7fbc12bc5410>\n",
      "cobra/core/reaction.py:394 \u001b[1;31mUserWarning\u001b[0m: malformed gene_reaction_rule '4*(AT4G19710 or AT1G31230 or AT5G13280 or AT3G02020 or AT5G14060)' for <Reaction AspK_h at 0x7fbc12bc5490>\n",
      "cobra/core/reaction.py:394 \u001b[1;31mUserWarning\u001b[0m: malformed gene_reaction_rule '2*(AT1G14810)' for <Reaction Asp_DASH_SeADH_h at 0x7fbc12bc5650>\n",
      "cobra/core/reaction.py:394 \u001b[1;31mUserWarning\u001b[0m: malformed gene_reaction_rule '2*(AT4G33680)' for <Reaction DAPAT_h at 0x7fbc12bc5ad0>\n",
      "cobra/core/reaction.py:394 \u001b[1;31mUserWarning\u001b[0m: malformed gene_reaction_rule '4*(AT1G31230 AT4G19710)' for <Reaction HSerDHNADP_h at 0x7fbc12bc5cd0>\n",
      "cobra/core/reaction.py:394 \u001b[1;31mUserWarning\u001b[0m: malformed gene_reaction_rule '4*(AT1G31230 AT4G19710)' for <Reaction HSerDHNAD_h at 0x7fbc12bc5f50>\n",
      "cobra/core/reaction.py:394 \u001b[1;31mUserWarning\u001b[0m: malformed gene_reaction_rule '4*(AT3G57050)' for <Reaction CTHL_h at 0x7fbc12bdc4d0>\n",
      "cobra/core/reaction.py:394 \u001b[1;31mUserWarning\u001b[0m: malformed gene_reaction_rule '2*(AT2G44160 or AT3G59970)' for <Reaction 5M_DASH_THFor_c at 0x7fbc12bdc2d0>\n",
      "cobra/core/reaction.py:394 \u001b[1;31mUserWarning\u001b[0m: malformed gene_reaction_rule '4*(AT4G13930 or AT4G13890 or AT1G22020 or AT1G36370 or AT4G37930 or AT5G26780)' for <Reaction GlyHMT_c at 0x7fbc12bdc910>\n",
      "cobra/core/reaction.py:394 \u001b[1;31mUserWarning\u001b[0m: malformed gene_reaction_rule '2*(AT4G29840 or AT1G72810)' for <Reaction ThrS_h at 0x7fbc12b832d0>\n",
      "cobra/core/reaction.py:394 \u001b[1;31mUserWarning\u001b[0m: malformed gene_reaction_rule '2*(AT1G24807) and 2*(AT3G55870 or AT5G05730 or AT2G29690)' for <Reaction ANTS_h at 0x7fbc12b83290>\n",
      "cobra/core/reaction.py:394 \u001b[1;31mUserWarning\u001b[0m: malformed gene_reaction_rule '2*(AT2G38280)' for <Reaction AMPDA_c at 0x7fbc12b97410>\n",
      "cobra/core/reaction.py:394 \u001b[1;31mUserWarning\u001b[0m: malformed gene_reaction_rule '2*(AT3G57610)' for <Reaction DCAMPS_h at 0x7fbc12b97550>\n",
      "cobra/core/reaction.py:394 \u001b[1;31mUserWarning\u001b[0m: malformed gene_reaction_rule '2*(AT2G21790) and 2*(AT3G23580 or AT3G27060)' for <Reaction ADPR_c at 0x7fbc12b97d90>\n",
      "cobra/core/reaction.py:394 \u001b[1;31mUserWarning\u001b[0m: malformed gene_reaction_rule '2*(AT2G21790) and 2*(AT3G23580 or AT3G27060)' for <Reaction CDPR_c at 0x7fbc12bad2d0>\n",
      "cobra/core/reaction.py:394 \u001b[1;31mUserWarning\u001b[0m: malformed gene_reaction_rule '2*(AT2G21790) and 2*(AT3G23580 or AT3G27060)' for <Reaction GDPR_c at 0x7fbc12bad650>\n",
      "cobra/core/reaction.py:394 \u001b[1;31mUserWarning\u001b[0m: malformed gene_reaction_rule '2*(AT2G21790) and 2*(AT3G23580 or AT3G27060)' for <Reaction UDPR_c at 0x7fbc12bad7d0>\n",
      "cobra/core/reaction.py:394 \u001b[1;31mUserWarning\u001b[0m: malformed gene_reaction_rule '3*(AT3G46940)' for <Reaction dUTPP_c at 0x7fbc12bad910>\n",
      "cobra/core/reaction.py:394 \u001b[1;31mUserWarning\u001b[0m: malformed gene_reaction_rule '6*(AT4G09320 or AT5G63310)' for <Reaction GDPK_c at 0x7fbc12bad510>\n",
      "cobra/core/reaction.py:394 \u001b[1;31mUserWarning\u001b[0m: malformed gene_reaction_rule '6*(AT4G09320 or AT5G63310)' for <Reaction GDPK_h at 0x7fbc12bad8d0>\n",
      "cobra/core/reaction.py:394 \u001b[1;31mUserWarning\u001b[0m: malformed gene_reaction_rule '6*(AT4G09320 or AT5G63310)' for <Reaction UDPK_c at 0x7fbc12bade50>\n",
      "cobra/core/reaction.py:394 \u001b[1;31mUserWarning\u001b[0m: malformed gene_reaction_rule '6*(AT4G09320 or AT5G63310)' for <Reaction dADPK_c at 0x7fbc12badf90>\n",
      "cobra/core/reaction.py:394 \u001b[1;31mUserWarning\u001b[0m: malformed gene_reaction_rule '6*(AT4G09320 or AT5G63310)' for <Reaction dCDPK_c at 0x7fbc12bad690>\n",
      "cobra/core/reaction.py:394 \u001b[1;31mUserWarning\u001b[0m: malformed gene_reaction_rule '6*(AT4G09320 or AT5G63310)' for <Reaction dGDPK_c at 0x7fbc12badf50>\n",
      "cobra/core/reaction.py:394 \u001b[1;31mUserWarning\u001b[0m: malformed gene_reaction_rule '6*(AT4G09320 or AT5G63310)' for <Reaction dTDPK_c at 0x7fbc12baddd0>\n",
      "cobra/core/reaction.py:394 \u001b[1;31mUserWarning\u001b[0m: malformed gene_reaction_rule '6*(AT4G09320 or AT5G63310)' for <Reaction dUDPK_c at 0x7fbc12b41490>\n"
     ]
    }
   ],
   "source": [
    "# Loading Required Packages \n",
    "import cobra\n",
    "import pandas as pd\n",
    "import numpy as np\n",
    "\n",
    "# Loading the Model \n",
    "model = cobra.io.read_sbml_model(\"Arnold2014.xml\")"
   ]
  },
  {
   "cell_type": "code",
   "execution_count": 3,
   "metadata": {},
   "outputs": [],
   "source": [
    "# Get list of all possible proteins in the model\n",
    "gene_ids = []\n",
    "for g in model.genes:\n",
    "    gene_ids.append(g.id)"
   ]
  },
  {
   "cell_type": "code",
   "execution_count": 4,
   "metadata": {},
   "outputs": [],
   "source": [
    "# Reading in the protein data\n",
    "df = pd.read_excel(io=\"ProteinConc.xlsx\")"
   ]
  },
  {
   "cell_type": "code",
   "execution_count": 73,
   "metadata": {},
   "outputs": [],
   "source": [
    "# Get list of all measured proteins \n",
    "all_atg = []\n",
    "x=df[\"Accession\"]\n",
    "for atg in x.values:\n",
    "    all_atg.append(atg)"
   ]
  },
  {
   "cell_type": "code",
   "execution_count": 87,
   "metadata": {},
   "outputs": [
    {
     "name": "stdout",
     "output_type": "stream",
     "text": [
      "Total measured proteins: 2427\n",
      "Total measured proteins in model: 245\n",
      "Total model reactions: 549\n",
      " \n",
      "Total model reactions with single constraints: 62\n",
      "Model proteins for single constraints: 49\n",
      " \n",
      "Total model reactions with multiple constraints: 39\n",
      "Total model proteins for possible constraints: 53\n"
     ]
    }
   ],
   "source": [
    "# Comparing the measured protein concentrations to those which are in the model \n",
    "\n",
    "model_atg = [] # Total measured proteins in model\n",
    "model_atg_final = [] # Proteins with direct reaction constraint (i.e. single responsible protein)\n",
    "model_rxns_atg = [] # Model reactions with direct constraints (i.e. single responsible protein)\n",
    "model_rxns_atgs = [] # Model reactions with multiple possible constraints \n",
    "model_atgs_final = [] # Proteins with multiple possible constraints \n",
    "\n",
    "for atg in x.values: # Check if protein is in the model \n",
    "    if atg in gene_ids:\n",
    "        model_atg.append(atg)\n",
    "        # Only parameterize that reaction if that enzyme is the only one responsible for that reaction\n",
    "        for r in model.genes.get_by_id(atg).reactions:\n",
    "            if len(r.genes) == 1:\n",
    "                model_rxns_atg.append(r)\n",
    "                model_atg_final.append(atg)\n",
    "            else:\n",
    "                prot_names = []\n",
    "                for g in r.genes:\n",
    "                    prot_names.append(g.id)\n",
    "                if set(prot_names).issubset(set(all_atg)):\n",
    "                    model_rxns_atgs.append(r)\n",
    "                    model_atgs_final = model_atgs_final + prot_names\n",
    "\n",
    "# Feasible constraint summary \n",
    "# General \n",
    "print(\"Total measured proteins: {}\".format(len(all_atg)))  \n",
    "print(\"Total measured proteins in model: {}\".format(len(model_atg))) \n",
    "print(\"Total model reactions: {}\".format(len(model.reactions)))\n",
    "print(\" \")\n",
    "# Reactions with simple constraints \n",
    "print(\"Total model reactions with single constraints: {}\".format(len(set(model_rxns_atg))))\n",
    "print(\"Model proteins for single constraints: {}\".format(len(set(model_atg_final))))\n",
    "print(\" \")\n",
    "# Reactions with multiple possible constraints \n",
    "print(\"Total model reactions with multiple constraints: {}\".format(len(set(model_rxns_atgs))))\n",
    "print(\"Total model proteins for possible constraints: {}\".format(len(set(model_atgs_final))))"
   ]
  },
  {
   "cell_type": "code",
   "execution_count": 106,
   "metadata": {},
   "outputs": [
    {
     "ename": "SyntaxError",
     "evalue": "invalid syntax (<ipython-input-106-847411dfaa3b>, line 15)",
     "output_type": "error",
     "traceback": [
      "\u001b[0;36m  File \u001b[0;32m\"<ipython-input-106-847411dfaa3b>\"\u001b[0;36m, line \u001b[0;32m15\u001b[0m\n\u001b[0;31m    reac =\u001b[0m\n\u001b[0m           ^\u001b[0m\n\u001b[0;31mSyntaxError\u001b[0m\u001b[0;31m:\u001b[0m invalid syntax\n"
     ]
    }
   ],
   "source": [
    "# Parameterizing the model for Col-0 Control Conditions\n",
    "\n",
    "Col0_Contr_1 = df[\"WT Cntl 1\"]\n",
    "Col0_Contr_2 = df[\"WT Cntl 2\"]\n",
    "Col0_Contr_3 = df[\"WT Cntl 3\"]\n",
    "Col0_Contr_4 = df[\"WT Cntl 4\"]\n",
    "\n",
    "for i in model_atg_final:\n",
    "    num = all_atg.index(i)\n",
    "    vals = [i/2000. for i in Col0_Contr_1[num],Col0_Contr_2[num],Col0_Contr_3[num],Col0_Contr_4[num]]\n",
    "    # scaling the values for setting fluxes \n",
    "    val = np.mean(vals)\n",
    "    print(val)\n",
    "    sterr = np.std(vals)/np.sqrt(len(vals))\n",
    "    reac = "
   ]
  },
  {
   "cell_type": "code",
   "execution_count": 103,
   "metadata": {},
   "outputs": [],
   "source": [
    "# Parameterizing the model for Col-0 Cold Conditions "
   ]
  },
  {
   "cell_type": "code",
   "execution_count": null,
   "metadata": {},
   "outputs": [],
   "source": [
    "# Plotting the overlapping sampling distribution"
   ]
  }
 ],
 "metadata": {
  "kernelspec": {
   "display_name": "Python 3",
   "language": "python",
   "name": "python3"
  },
  "language_info": {
   "codemirror_mode": {
    "name": "ipython",
    "version": 2
   },
   "file_extension": ".py",
   "mimetype": "text/x-python",
   "name": "python",
   "nbconvert_exporter": "python",
   "pygments_lexer": "ipython2",
   "version": "2.7.15rc1"
  }
 },
 "nbformat": 4,
 "nbformat_minor": 2
}
